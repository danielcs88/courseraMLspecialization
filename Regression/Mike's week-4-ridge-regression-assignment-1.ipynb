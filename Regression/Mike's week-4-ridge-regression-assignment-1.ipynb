{
 "cells": [
  {
   "cell_type": "markdown",
   "metadata": {},
   "source": [
    "# Regression Week 4: Ridge Regression (interpretation)"
   ]
  },
  {
   "cell_type": "markdown",
   "metadata": {},
   "source": [
    "In this notebook, we will run ridge regression multiple times with different L2 penalties to see which one produces the best fit. We will revisit the example of polynomial regression as a means to see the effect of L2 regularization. In particular, we will:\n",
    "* Use a pre-built implementation of regression (GraphLab Create) to run polynomial regression\n",
    "* Use matplotlib to visualize polynomial regressions\n",
    "* Use a pre-built implementation of regression (GraphLab Create) to run polynomial regression, this time with L2 penalty\n",
    "* Use matplotlib to visualize polynomial regressions under L2 regularization\n",
    "* Choose best L2 penalty using cross-validation.\n",
    "* Assess the final fit using test data.\n",
    "\n",
    "We will continue to use the House data from previous notebooks.  (In the next programming assignment for this module, you will implement your own ridge regression learning algorithm using gradient descent.)"
   ]
  },
  {
   "cell_type": "markdown",
   "metadata": {},
   "source": [
    "# Fire up graphlab create"
   ]
  },
  {
   "cell_type": "code",
   "execution_count": 1,
   "metadata": {
    "collapsed": false
   },
   "outputs": [],
   "source": [
    "import graphlab\n",
    "import numpy"
   ]
  },
  {
   "cell_type": "markdown",
   "metadata": {},
   "source": [
    "# Polynomial regression, revisited"
   ]
  },
  {
   "cell_type": "markdown",
   "metadata": {},
   "source": [
    "We build on the material from Week 3, where we wrote the function to produce an SFrame with columns containing the powers of a given input. Copy and paste the function `polynomial_sframe` from Week 3:"
   ]
  },
  {
   "cell_type": "code",
   "execution_count": 2,
   "metadata": {
    "collapsed": true
   },
   "outputs": [],
   "source": [
    "def polynomial_sframe(feature, degree):\n",
    "    # assume that degree >= 1\n",
    "    # initialize the SFrame:\n",
    "    poly_sframe = graphlab.SFrame()\n",
    "    # and set poly_sframe['power_1'] equal to the passed feature\n",
    "    poly_sframe['power_1'] = feature\n",
    "    # first check if degree > 1\n",
    "    if degree > 1:\n",
    "        # then loop over the remaining degrees:\n",
    "        # range usually starts at 0 and stops at the endpoint-1. We want it to start at 2 and stop at degree\n",
    "        for power in range(2, degree+1): \n",
    "            # first we'll give the column a name:\n",
    "            name = 'power_' + str(power)\n",
    "            # then assign poly_sframe[name] to the appropriate power of feature\n",
    "            poly_sframe[name] = poly_sframe['power_1'].apply(lambda x: x**power)\n",
    "            \n",
    "    return poly_sframe"
   ]
  },
  {
   "cell_type": "markdown",
   "metadata": {},
   "source": [
    "Let's use matplotlib to visualize what a polynomial regression looks like on the house data."
   ]
  },
  {
   "cell_type": "code",
   "execution_count": 3,
   "metadata": {
    "collapsed": false
   },
   "outputs": [
    {
     "name": "stderr",
     "output_type": "stream",
     "text": [
      "[INFO] \u001b[1;32m1451192757 : INFO:     (initialize_globals_from_environment:282): Setting configuration variable GRAPHLAB_FILEIO_ALTERNATIVE_SSL_CERT_FILE to /usr/local/lib/python2.7/dist-packages/certifi/cacert.pem\n",
      "\u001b[0m\u001b[1;32m1451192757 : INFO:     (initialize_globals_from_environment:282): Setting configuration variable GRAPHLAB_FILEIO_ALTERNATIVE_SSL_CERT_DIR to \n",
      "\u001b[0mThis non-commercial license of GraphLab Create is assigned to mrmthornton@gmail.com and will expire on October 27, 2016. For commercial licensing options, visit https://dato.com/buy/.\n",
      "\n",
      "[INFO] Start server at: ipc:///tmp/graphlab_server-23894 - Server binary: /usr/local/lib/python2.7/dist-packages/graphlab/unity_server - Server log: /tmp/graphlab_server_1451192757.log\n",
      "[INFO] GraphLab Server Version: 1.7.1\n"
     ]
    }
   ],
   "source": [
    "import matplotlib.pyplot as plt\n",
    "%matplotlib inline"
   ]
  },
  {
   "cell_type": "code",
   "execution_count": 4,
   "metadata": {
    "collapsed": false
   },
   "outputs": [],
   "source": [
    "sales = graphlab.SFrame('kc_house_data.gl/')"
   ]
  },
  {
   "cell_type": "markdown",
   "metadata": {},
   "source": [
    "As in Week 3, we will use the sqft_living variable. For plotting purposes (connecting the dots), you'll need to sort by the values of sqft_living. For houses with identical square footage, we break the tie by their prices."
   ]
  },
  {
   "cell_type": "code",
   "execution_count": 5,
   "metadata": {
    "collapsed": false
   },
   "outputs": [],
   "source": [
    "sales = sales.sort(['sqft_living','price'])"
   ]
  },
  {
   "cell_type": "markdown",
   "metadata": {},
   "source": [
    "Let us revisit the 15th-order polynomial model using the 'sqft_living' input. Generate polynomial features up to degree 15 using `polynomial_sframe()` and fit a model with these features. When fitting the model, use an L2 penalty of `1e-5`:"
   ]
  },
  {
   "cell_type": "code",
   "execution_count": 6,
   "metadata": {
    "collapsed": false
   },
   "outputs": [
    {
     "name": "stdout",
     "output_type": "stream",
     "text": [
      "['power_1', 'power_2', 'power_3', 'power_4', 'power_5', 'power_6', 'power_7', 'power_8', 'power_9', 'power_10', 'power_11', 'power_12', 'power_13', 'power_14', 'power_15']\n"
     ]
    }
   ],
   "source": [
    "l2_small_penalty = 1e-5\n",
    "features_sframe = polynomial_sframe(sales['sqft_living'], 15)\n",
    "features_list = features_sframe.column_names()\n",
    "print features_list\n",
    "features_sframe['price'] = sales['price']"
   ]
  },
  {
   "cell_type": "markdown",
   "metadata": {},
   "source": [
    "Note: When we have so many features and so few data points, the solution can become highly numerically unstable, which can sometimes lead to strange unpredictable results.  Thus, rather than using no regularization, we will introduce a tiny amount of regularization (`l2_penalty=1e-5`) to make the solution numerically stable.  (In lecture, we discussed the fact that regularization can also help with numerical stability, and here we are seeing a practical example.)\n",
    "\n",
    "With the L2 penalty specified above, fit the model and print out the learned weights.\n",
    "\n",
    "Hint: make sure to add 'price' column to the new SFrame before calling `graphlab.linear_regression.create()`. Also, make sure GraphLab Create doesn't create its own validation set by using the option `validation_set=None` in this call."
   ]
  },
  {
   "cell_type": "code",
   "execution_count": 7,
   "metadata": {
    "collapsed": false
   },
   "outputs": [
    {
     "name": "stdout",
     "output_type": "stream",
     "text": [
      "103.090949863\n",
      "           15             14             13             12\n",
      "1.137e-53 x  - 3.796e-49 x  - 3.658e-46 x  + 6.905e-41 x \n",
      "              11            10             9             8\n",
      " + 7.228e-37 x  - 7.29e-33 x  - 2.333e-28 x - 4.788e-25 x\n",
      "              7             6             5             4             3\n",
      " + 4.512e-20 x + 1.711e-16 x - 7.772e-12 x + 5.189e-08 x - 0.0001291 x\n",
      "           2\n",
      " + 0.1346 x + 103.1 x + 1.679e+05\n"
     ]
    }
   ],
   "source": [
    "model = graphlab.linear_regression.create(features_sframe,target='price',\n",
    "                                          l2_penalty=l2_small_penalty,\n",
    "                                          features = features_list,\n",
    "                                          validation_set=None,verbose=False)\n",
    "w = list(model.coefficients['value'])\n",
    "print w[1]\n",
    "w.reverse()\n",
    "print numpy.poly1d(w)"
   ]
  },
  {
   "cell_type": "markdown",
   "metadata": {},
   "source": [
    "***QUIZ QUESTION:  What's the learned value for the coefficient of feature `power_1`?***"
   ]
  },
  {
   "cell_type": "markdown",
   "metadata": {},
   "source": [
    "# Observe overfitting"
   ]
  },
  {
   "cell_type": "markdown",
   "metadata": {},
   "source": [
    "Recall from Week 3 that the polynomial fit of degree 15 changed wildly whenever the data changed. In particular, when we split the sales data into four subsets and fit the model of degree 15, the result came out to be very different for each subset. The model had a *high variance*. We will see in a moment that ridge regression reduces such variance. But first, we must reproduce the experiment we did in Week 3."
   ]
  },
  {
   "cell_type": "markdown",
   "metadata": {},
   "source": [
    "First, split the data into split the sales data into four subsets of roughly equal size and call them `set_1`, `set_2`, `set_3`, and `set_4`. Use `.random_split` function and make sure you set `seed=0`. "
   ]
  },
  {
   "cell_type": "code",
   "execution_count": 8,
   "metadata": {
    "collapsed": true
   },
   "outputs": [],
   "source": [
    "(semi_split1, semi_split2) = sales.random_split(.5,seed=0)\n",
    "(set_1, set_2) = semi_split1.random_split(0.5, seed=0)\n",
    "(set_3, set_4) = semi_split2.random_split(0.5, seed=0)"
   ]
  },
  {
   "cell_type": "markdown",
   "metadata": {},
   "source": [
    "Next, fit a 15th degree polynomial on `set_1`, `set_2`, `set_3`, and `set_4`, using 'sqft_living' to predict prices. Print the weights and make a plot of the resulting model.\n",
    "\n",
    "Hint: When calling `graphlab.linear_regression.create()`, use the same L2 penalty as before (i.e. `l2_small_penalty`).  Also, make sure GraphLab Create doesn't create its own validation set by using the option `validation_set = None` in this call."
   ]
  },
  {
   "cell_type": "code",
   "execution_count": 9,
   "metadata": {
    "collapsed": false
   },
   "outputs": [],
   "source": [
    "def view_predictions(data_set, degree,L2):\n",
    "    features_sframe = polynomial_sframe(data_set['sqft_living'], degree)\n",
    "    features_list = features_sframe.column_names()\n",
    "    features_sframe['price'] = data_set['price']\n",
    "    #features_sframe\n",
    "    model = graphlab.linear_regression.create(features_sframe,target='price', \n",
    "                                          l2_penalty=L2,\n",
    "                                          features = features_list,\n",
    "                                          validation_set=None,verbose=False)\n",
    "    w = list(model.coefficients['value'])\n",
    "    w.reverse()\n",
    "    print numpy.poly1d(w)\n",
    "    plt.plot(features_sframe['power_1'],features_sframe['price'],'k.')\n",
    "    x_pred = graphlab.SFrame({'power_1':[10 * i for i in range(800)]})\n",
    "    y_pred = model.predict(polynomial_sframe(x_pred['power_1'],degree))\n",
    "    plt.plot(x_pred['power_1'], y_pred, 'g-')\n",
    "    plt.xlabel('sqft')\n",
    "    plt.ylabel('price')"
   ]
  },
  {
   "cell_type": "code",
   "execution_count": 10,
   "metadata": {
    "collapsed": false,
    "scrolled": false
   },
   "outputs": [
    {
     "name": "stdout",
     "output_type": "stream",
     "text": [
      "            15             14           13             12\n",
      "-2.338e-53 x  + 1.527e-49 x  + 3.8e-45 x  + 2.851e-41 x \n",
      "              11             10             9             8\n",
      " - 1.627e-37 x  - 6.838e-33 x  - 6.928e-29 x + 1.593e-25 x\n",
      "              7             6             5             4             3\n",
      " + 1.069e-20 x + 5.975e-17 x - 3.798e-13 x - 1.529e-08 x + 0.0001415 x\n",
      "           2\n",
      " - 0.3973 x + 585.9 x + 9306\n"
     ]
    },
    {
     "data": {
      "image/png": "[encoded data removed]",
      "text/plain": [
       "<matplotlib.figure.Figure at 0x7f0eb7317f50>"
      ]
     },
     "metadata": {},
     "output_type": "display_data"
    }
   ],
   "source": [
    "view_predictions(set_1, 15, 1e-5)"
   ]
  },
  {
   "cell_type": "code",
   "execution_count": null,
   "metadata": {
    "collapsed": false
   },
   "outputs": [],
   "source": [
    "view_predictions(set_2, 15, 1e-5)"
   ]
  },
  {
   "cell_type": "code",
   "execution_count": null,
   "metadata": {
    "collapsed": false
   },
   "outputs": [],
   "source": [
    "view_predictions(set_3, 15, 1e-5)"
   ]
  },
  {
   "cell_type": "code",
   "execution_count": null,
   "metadata": {
    "collapsed": false
   },
   "outputs": [],
   "source": [
    "view_predictions(set_4, 15, 1e-5)"
   ]
  },
  {
   "cell_type": "markdown",
   "metadata": {},
   "source": [
    "The four curves should differ from one another a lot, as should the coefficients you learned.\n",
    "\n",
    "***QUIZ QUESTION:  For the models learned in each of these training sets, what are the smallest and largest values you learned for the coefficient of feature `power_1`?***  (For the purpose of answering this question, negative numbers are considered \"smaller\" than positive numbers. So -5 is smaller than -3, and -3 is smaller than 5 and so forth.)"
   ]
  },
  {
   "cell_type": "markdown",
   "metadata": {},
   "source": [
    "# Ridge regression comes to rescue"
   ]
  },
  {
   "cell_type": "markdown",
   "metadata": {},
   "source": [
    "Generally, whenever we see weights change so much in response to change in data, we believe the variance of our estimate to be large. Ridge regression aims to address this issue by penalizing \"large\" weights. (Weights of `model15` looked quite small, but they are not that small because 'sqft_living' input is in the order of thousands.)\n",
    "\n",
    "With the argument `l2_penalty=1e5`, fit a 15th-order polynomial model on `set_1`, `set_2`, `set_3`, and `set_4`. Other than the change in the `l2_penalty` parameter, the code should be the same as the experiment above. Also, make sure GraphLab Create doesn't create its own validation set by using the option `validation_set = None` in this call."
   ]
  },
  {
   "cell_type": "code",
   "execution_count": null,
   "metadata": {
    "collapsed": false,
    "scrolled": false
   },
   "outputs": [],
   "source": [
    "view_predictions(set_1, 15, 1e5)"
   ]
  },
  {
   "cell_type": "code",
   "execution_count": null,
   "metadata": {
    "collapsed": false,
    "scrolled": false
   },
   "outputs": [],
   "source": [
    "view_predictions(set_2, 15, 1e5)"
   ]
  },
  {
   "cell_type": "code",
   "execution_count": null,
   "metadata": {
    "collapsed": false
   },
   "outputs": [],
   "source": [
    "view_predictions(set_3, 15, 1e5)"
   ]
  },
  {
   "cell_type": "code",
   "execution_count": null,
   "metadata": {
    "collapsed": false
   },
   "outputs": [],
   "source": [
    "view_predictions(set_4, 15, 1e5)"
   ]
  },
  {
   "cell_type": "markdown",
   "metadata": {},
   "source": [
    "These curves should vary a lot less, now that you applied a high degree of regularization.\n",
    "\n",
    "***QUIZ QUESTION:  For the models learned with the high level of regularization in each of these training sets, what are the smallest and largest values you learned for the coefficient of feature `power_1`?*** (For the purpose of answering this question, negative numbers are considered \"smaller\" than positive numbers. So -5 is smaller than -3, and -3 is smaller than 5 and so forth.)"
   ]
  },
  {
   "cell_type": "markdown",
   "metadata": {},
   "source": [
    "# Selecting an L2 penalty via cross-validation"
   ]
  },
  {
   "cell_type": "markdown",
   "metadata": {},
   "source": [
    "Just like the polynomial degree, the L2 penalty is a \"magic\" parameter we need to select. We could use the validation set approach as we did in the last module, but that approach has a major disadvantage: it leaves fewer observations available for training. **Cross-validation** seeks to overcome this issue by using all of the training set in a smart way.\n",
    "\n",
    "We will implement a kind of cross-validation called **k-fold cross-validation**. The method gets its name because it involves dividing the training set into k segments of roughtly equal size. Similar to the validation set method, we measure the validation error with one of the segments designated as the validation set. The major difference is that we repeat the process k times as follows:\n",
    "\n",
    "Set aside segment 0 as the validation set, and fit a model on rest of data, and evalutate it on this validation set<br>\n",
    "Set aside segment 1 as the validation set, and fit a model on rest of data, and evalutate it on this validation set<br>\n",
    "...<br>\n",
    "Set aside segment k-1 as the validation set, and fit a model on rest of data, and evalutate it on this validation set\n",
    "\n",
    "After this process, we compute the average of the k validation errors, and use it as an estimate of the generalization error. Notice that  all observations are used for both training and validation, as we iterate over segments of data. \n",
    "\n",
    "To estimate the generalization error well, it is crucial to shuffle the training data before dividing them into segments. GraphLab Create has a utility function for shuffling a given SFrame. We reserve 10% of the data as the test set and shuffle the remainder. (Make sure to use `seed=1` to get consistent answer.)"
   ]
  },
  {
   "cell_type": "code",
   "execution_count": 22,
   "metadata": {
    "collapsed": true
   },
   "outputs": [],
   "source": [
    "(train_valid, test_data) = sales.random_split(.9, seed=1)\n",
    "train_valid_shuffled = graphlab.toolkits.cross_validation.shuffle(train_valid, random_seed=1)"
   ]
  },
  {
   "cell_type": "markdown",
   "metadata": {},
   "source": [
    "Once the data is shuffled, we divide it into equal segments. Each segment should receive `n/k` elements, where `n` is the number of observations in the training set and `k` is the number of segments. Since the segment 0 starts at index 0 and contains `n/k` elements, it ends at index `(n/k)-1`. The segment 1 starts where the segment 0 left off, at index `(n/k)`. With `n/k` elements, the segment 1 ends at index `(n*2/k)-1`. Continuing in this fashion, we deduce that the segment `i` starts at index `(n*i/k)` and ends at `(n*(i+1)/k)-1`."
   ]
  },
  {
   "cell_type": "markdown",
   "metadata": {},
   "source": [
    "With this pattern in mind, we write a short loop that prints the starting and ending indices of each segment, just to make sure you are getting the splits right."
   ]
  },
  {
   "cell_type": "code",
   "execution_count": 13,
   "metadata": {
    "collapsed": false
   },
   "outputs": [
    {
     "name": "stdout",
     "output_type": "stream",
     "text": [
      "19396 1939 19390\n",
      "0 (0, 1938) 1939 0\n",
      "1 (1939, 3878) 1940 1939\n",
      "2 (3879, 5817) 1939 3878\n",
      "3 (5818, 7757) 1940 5817\n",
      "4 (7758, 9697) 1940 7756\n",
      "5 (9698, 11636) 1939 9695\n",
      "6 (11637, 13576) 1940 11634\n",
      "7 (13577, 15515) 1939 13573\n",
      "8 (15516, 17455) 1940 15512\n",
      "9 (17456, 19395) 1940 17451\n"
     ]
    }
   ],
   "source": [
    "n = len(train_valid_shuffled)\n",
    "k = 10 # 10-fold cross-validation\n",
    "print n, n/k, n/k *k\n",
    "for i in xrange(k):\n",
    "    start = (n*i)/k # the () distribute the extras over all the sets\n",
    "    end = (n*(i+1))/k -1\n",
    "    print i, (start, end), end +1 -start, n/k *i"
   ]
  },
  {
   "cell_type": "markdown",
   "metadata": {
    "collapsed": false
   },
   "source": [
    "Let us familiarize ourselves with array slicing with SFrame. To extract a continuous slice from an SFrame, use colon in square brackets. For instance, the following cell extracts rows 0 to 9 of `train_valid_shuffled`. Notice that the first index (0) is included in the slice but the last index (10) is omitted."
   ]
  },
  {
   "cell_type": "markdown",
   "metadata": {},
   "source": [
    "Now let us extract individual segments with array slicing. Consider the scenario where we group the houses in the `train_valid_shuffled` dataframe into k=10 segments of roughly equal size, with starting and ending indices computed as above.\n",
    "Extract the fourth segment (segment 3) and assign it to a variable called `validation4`."
   ]
  },
  {
   "cell_type": "code",
   "execution_count": 14,
   "metadata": {
    "collapsed": false
   },
   "outputs": [],
   "source": [
    "validation4 = train_valid_shuffled[5818 : 7757 + 1]"
   ]
  },
  {
   "cell_type": "markdown",
   "metadata": {},
   "source": [
    "To verify that we have the right elements extracted, run the following cell, which computes the average price of the fourth segment. When rounded to nearest whole number, the average should be $536,234."
   ]
  },
  {
   "cell_type": "code",
   "execution_count": 15,
   "metadata": {
    "collapsed": false
   },
   "outputs": [
    {
     "name": "stdout",
     "output_type": "stream",
     "text": [
      "536234\n"
     ]
    }
   ],
   "source": [
    "print int(round(validation4['price'].mean(), 0))"
   ]
  },
  {
   "cell_type": "markdown",
   "metadata": {},
   "source": [
    "After designating one of the k segments as the validation set, we train a model using the rest of the data. To choose the remainder, we slice (0:start) and (end+1:n) of the data and paste them together. SFrame has `append()` method that pastes together two disjoint sets of rows originating from a common dataset. For instance, the following cell pastes together the first and last two rows of the `train_valid_shuffled` dataframe."
   ]
  },
  {
   "cell_type": "code",
   "execution_count": 16,
   "metadata": {
    "collapsed": false
   },
   "outputs": [
    {
     "name": "stdout",
     "output_type": "stream",
     "text": [
      "+------------+---------------------------+-----------+----------+-----------+\n",
      "|     id     |            date           |   price   | bedrooms | bathrooms |\n",
      "+------------+---------------------------+-----------+----------+-----------+\n",
      "| 2780400035 | 2014-05-05 00:00:00+00:00 |  665000.0 |   4.0    |    2.5    |\n",
      "| 1703050500 | 2015-03-21 00:00:00+00:00 |  645000.0 |   3.0    |    2.5    |\n",
      "| 4139480190 | 2014-09-16 00:00:00+00:00 | 1153000.0 |   3.0    |    3.25   |\n",
      "| 7237300290 | 2015-03-26 00:00:00+00:00 |  338000.0 |   5.0    |    2.5    |\n",
      "+------------+---------------------------+-----------+----------+-----------+\n",
      "+-------------+----------+--------+------------+------+-----------+-------+------------+\n",
      "| sqft_living | sqft_lot | floors | waterfront | view | condition | grade | sqft_above |\n",
      "+-------------+----------+--------+------------+------+-----------+-------+------------+\n",
      "|    2800.0   |   5900   |   1    |     0      |  0   |     3     |   8   |    1660    |\n",
      "|    2490.0   |   5978   |   2    |     0      |  0   |     3     |   9   |    2490    |\n",
      "|    3780.0   |  10623   |   1    |     0      |  1   |     3     |   11  |    2650    |\n",
      "|    2400.0   |   4496   |   2    |     0      |  0   |     3     |   7   |    2400    |\n",
      "+-------------+----------+--------+------------+------+-----------+-------+------------+\n",
      "+---------------+----------+--------------+---------+-------------+\n",
      "| sqft_basement | yr_built | yr_renovated | zipcode |     lat     |\n",
      "+---------------+----------+--------------+---------+-------------+\n",
      "|      1140     |   1963   |      0       |  98115  | 47.68093246 |\n",
      "|       0       |   2003   |      0       |  98074  | 47.62984888 |\n",
      "|      1130     |   1999   |      0       |  98006  | 47.55061236 |\n",
      "|       0       |   2004   |      0       |  98042  | 47.36923712 |\n",
      "+---------------+----------+--------------+---------+-------------+\n",
      "+---------------+---------------+-----+\n",
      "|      long     | sqft_living15 | ... |\n",
      "+---------------+---------------+-----+\n",
      "| -122.28583258 |     2580.0    | ... |\n",
      "| -122.02177564 |     2710.0    | ... |\n",
      "| -122.10144844 |     3850.0    | ... |\n",
      "| -122.12606473 |     1880.0    | ... |\n",
      "+---------------+---------------+-----+\n",
      "[4 rows x 21 columns]\n",
      "\n"
     ]
    }
   ],
   "source": [
    "n = len(train_valid_shuffled)\n",
    "first_two = train_valid_shuffled[0:2]\n",
    "last_two = train_valid_shuffled[n-2:n]\n",
    "print first_two.append(last_two)"
   ]
  },
  {
   "cell_type": "markdown",
   "metadata": {},
   "source": [
    "Extract the remainder of the data after *excluding* fourth segment (segment 3) and assign the subset to `train4`."
   ]
  },
  {
   "cell_type": "code",
   "execution_count": 17,
   "metadata": {
    "collapsed": false
   },
   "outputs": [],
   "source": [
    "def get_Kth_set(data, k_num, set_0_indexing):\n",
    "    set_num = set_0_indexing\n",
    "    n = len(data)\n",
    "    k = k_num\n",
    "    start = [(n*i)/k for i in xrange(k)]\n",
    "    #print start\n",
    "    begin = start[set_num]\n",
    "    if set_num+1 == k:\n",
    "        end = n\n",
    "    else: end = start[set_num+1]\n",
    "    validation_set = data[begin:end]\n",
    "    first = data[0:begin]\n",
    "    last = data[end:n]\n",
    "    training_set = first.append(last)\n",
    "    assert (len(training_set) + len(validation_set) == n)\n",
    "    return training_set, validation_set"
   ]
  },
  {
   "cell_type": "markdown",
   "metadata": {},
   "source": [
    "To verify that we have the right elements extracted, run the following cell, which computes the average price of the data with fourth segment excluded. When rounded to nearest whole number, the average should be $539,450."
   ]
  },
  {
   "cell_type": "code",
   "execution_count": 18,
   "metadata": {
    "collapsed": false
   },
   "outputs": [
    {
     "name": "stdout",
     "output_type": "stream",
     "text": [
      "539450\n"
     ]
    }
   ],
   "source": [
    "train4, validation_set = get_Kth_set(train_valid_shuffled, 10, 3)\n",
    "print int(round(train4['price'].mean(), 10))"
   ]
  },
  {
   "cell_type": "markdown",
   "metadata": {},
   "source": [
    "Now we are ready to implement k-fold cross-validation. Write a function that computes k validation errors by designating each of the k segments as the validation set. It accepts as parameters (i) `k`, (ii) `l2_penalty`, (iii) dataframe, (iv) name of output column (e.g. `price`) and (v) list of feature names. The function returns the average validation error using k segments as validation sets.\n",
    "\n",
    "* For each i in [0, 1, ..., k-1]:\n",
    "  * Compute starting and ending indices of segment i and call 'start' and 'end'\n",
    "  * Form validation set by taking a slice (start:end+1) from the data.\n",
    "  * Form training set by appending slice (end+1:n) to the end of slice (0:start).\n",
    "  * Train a linear model using training set just formed, with a given l2_penalty\n",
    "  * Compute validation error using validation set just formed"
   ]
  },
  {
   "cell_type": "code",
   "execution_count": 29,
   "metadata": {
    "collapsed": false,
    "scrolled": true
   },
   "outputs": [
    {
     "name": "stdout",
     "output_type": "stream",
     "text": [
      "k fold: RSS  1.3137665092e+14 , l2  0.1 k  10\n",
      "k fold: RSS  1.27792047454e+14 , l2  0.1 k  10\n",
      "k fold: RSS  1.04216074053e+14 , l2  0.1 k  10\n",
      "k fold: RSS  1.37508603924e+14 , l2  0.1 k  10\n",
      "k fold: RSS  1.21085159246e+14 , l2  0.1 k  10\n",
      "k fold: RSS  1.43384181823e+14 , l2  0.1 k  10\n",
      "k fold: RSS  1.63607955532e+14 , l2  0.1 k  10\n",
      "k fold: RSS  1.40915794031e+14 , l2  0.1 k  10\n",
      "k fold: RSS  1.19362301304e+14 , l2  0.1 k  10\n",
      "k fold: RSS  1.59019090275e+14 , l2  0.1 k  10\n",
      "1.34826785856e+14\n",
      "k fold: RSS  1.3145089889e+14 , l2  100 k  10\n",
      "k fold: RSS  1.28044739771e+14 , l2  100 k  10\n",
      "k fold: RSS  1.0383832111e+14 , l2  100 k  10\n",
      "k fold: RSS  1.37593874291e+14 , l2  100 k  10\n",
      "k fold: RSS  1.21012254425e+14 , l2  100 k  10\n",
      "k fold: RSS  1.43394417578e+14 , l2  100 k  10\n",
      "k fold: RSS  1.64190461871e+14 , l2  100 k  10\n",
      "k fold: RSS  1.41455975667e+14 , l2  100 k  10\n",
      "k fold: RSS  1.18770625334e+14 , l2  100 k  10\n",
      "k fold: RSS  1.59737630163e+14 , l2  100 k  10\n",
      "1.3494891991e+14\n"
     ]
    }
   ],
   "source": [
    "def k_fold_cross_validation(k, L2, data, output_name, features_list):\n",
    "    RSS_sum = 0\n",
    "    for i in range(k):\n",
    "        # get the training and validation sets\n",
    "        training_set, validation_set = get_Kth_set(train_valid_shuffled, k, i)\n",
    "        # train  with l2 penalty\n",
    "        model = graphlab.linear_regression.create(data, target=output_name, \n",
    "                                                  features=features_list,\n",
    "                                                  l2_penalty=L2,\n",
    "                                                  validation_set=None,verbose=False)\n",
    "        predictions = model.predict(validation_set)\n",
    "        RSS = ((validation_set[output_name] - predictions)**2).sum()\n",
    "        print 'k fold: RSS ', RSS, ', l2 ', L2, 'k ', k\n",
    "        RSS_sum += RSS\n",
    "    return RSS_sum/k\n",
    "    \n",
    "test = k_fold_cross_validation(10, 0.1, train_valid_shuffled, 'price', ['sqft_living'])\n",
    "print test\n",
    "test = k_fold_cross_validation(10, 100, train_valid_shuffled, 'price', ['sqft_living'])\n",
    "print test"
   ]
  },
  {
   "cell_type": "markdown",
   "metadata": {},
   "source": [
    "Once we have a function to compute the average validation error for a model, we can write a loop to find the model that minimizes the average validation error. Write a loop that does the following:\n",
    "* We will again be aiming to fit a 15th-order polynomial model using the `sqft_living` input\n",
    "* For `l2_penalty` in [10^1, 10^1.5, 10^2, 10^2.5, ..., 10^7] (to get this in Python, you can use this Numpy function: `np.logspace(1, 7, num=13)`.)\n",
    "    * Run 10-fold cross-validation with `l2_penalty`\n",
    "* Report which L2 penalty produced the lowest average validation error.\n",
    "\n",
    "Note: since the degree of the polynomial is now fixed to 15, to make things faster, you should generate polynomial features in advance and re-use them throughout the loop. Make sure to use `train_valid_shuffled` when generating polynomial features!"
   ]
  },
  {
   "cell_type": "code",
   "execution_count": 21,
   "metadata": {
    "collapsed": false
   },
   "outputs": [
    {
     "name": "stdout",
     "output_type": "stream",
     "text": [
      "k fold RSS :  2.48160069753e+14 k fold l2 :  10.0\n",
      "k fold RSS :  2.54161168112e+14 k fold l2 :  10.0\n",
      "k fold RSS :  2.14614603042e+14 k fold l2 :  10.0\n",
      "k fold RSS :  2.58762098463e+14 k fold l2 :  10.0\n",
      "k fold RSS :  2.45508756429e+14 k fold l2 :  10.0\n",
      "k fold RSS :  2.92983544354e+14 k fold l2 :  10.0\n",
      "k fold RSS :  3.17449696668e+14 k fold l2 :  10.0\n",
      "k fold RSS :  2.87653591996e+14 k fold l2 :  10.0\n",
      "k fold RSS :  2.27412733636e+14 k fold l2 :  10.0\n",
      "k fold RSS :  3.13332957793e+14 k fold l2 :  10.0\n",
      "2.66003922025e+14 10.0\n",
      "k fold RSS :  2.48160069753e+14 k fold l2 :  31.6227766017\n",
      "k fold RSS :  2.54161168112e+14 k fold l2 :  31.6227766017\n",
      "k fold RSS :  2.14614603042e+14 k fold l2 :  31.6227766017\n",
      "k fold RSS :  2.58762098463e+14 k fold l2 :  31.6227766017\n",
      "k fold RSS :  2.45508756429e+14 k fold l2 :  31.6227766017\n",
      "k fold RSS :  2.92983544354e+14 k fold l2 :  31.6227766017\n",
      "k fold RSS :  3.17449696668e+14 k fold l2 :  31.6227766017\n",
      "k fold RSS :  2.87653591996e+14 k fold l2 :  31.6227766017\n",
      "k fold RSS :  2.27412733636e+14 k fold l2 :  31.6227766017\n",
      "k fold RSS :  3.13332957793e+14 k fold l2 :  31.6227766017\n",
      "2.66003922025e+14 31.6227766017\n",
      "k fold RSS :  2.48160069753e+14 k fold l2 :  100.0\n",
      "k fold RSS :  2.54161168112e+14 k fold l2 :  100.0\n",
      "k fold RSS :  2.14614603042e+14 k fold l2 :  100.0\n",
      "k fold RSS :  2.58762098463e+14 k fold l2 :  100.0\n",
      "k fold RSS :  2.45508756429e+14 k fold l2 :  100.0\n",
      "k fold RSS :  2.92983544354e+14 k fold l2 :  100.0\n",
      "k fold RSS :  3.17449696668e+14 k fold l2 :  100.0\n",
      "k fold RSS :  2.87653591996e+14 k fold l2 :  100.0\n",
      "k fold RSS :  2.27412733636e+14 k fold l2 :  100.0\n",
      "k fold RSS :  3.13332957793e+14 k fold l2 :  100.0\n",
      "2.66003922025e+14 100.0\n",
      "k fold RSS :  2.48160069753e+14 k fold l2 :  316.227766017\n",
      "k fold RSS :  2.54161168112e+14 k fold l2 :  316.227766017\n",
      "k fold RSS :  2.14614603042e+14 k fold l2 :  316.227766017\n",
      "k fold RSS :  2.58762098463e+14 k fold l2 :  316.227766017\n",
      "k fold RSS :  2.45508756429e+14 k fold l2 :  316.227766017\n",
      "k fold RSS :  2.92983544354e+14 k fold l2 :  316.227766017\n",
      "k fold RSS :  3.17449696668e+14 k fold l2 :  316.227766017\n",
      "k fold RSS :  2.87653591996e+14 k fold l2 :  316.227766017\n",
      "k fold RSS :  2.27412733636e+14 k fold l2 :  316.227766017\n",
      "k fold RSS :  3.13332957793e+14 k fold l2 :  316.227766017\n",
      "2.66003922025e+14 316.227766017\n",
      "k fold RSS :  2.48160069753e+14 k fold l2 :  1000.0\n",
      "k fold RSS :  2.54161168112e+14 k fold l2 :  1000.0\n",
      "k fold RSS :  2.14614603042e+14 k fold l2 :  1000.0\n",
      "k fold RSS :  2.58762098463e+14 k fold l2 :  1000.0\n",
      "k fold RSS :  2.45508756429e+14 k fold l2 :  1000.0\n",
      "k fold RSS :  2.92983544354e+14 k fold l2 :  1000.0\n",
      "k fold RSS :  3.17449696668e+14 k fold l2 :  1000.0\n",
      "k fold RSS :  2.87653591996e+14 k fold l2 :  1000.0\n",
      "k fold RSS :  2.27412733636e+14 k fold l2 :  1000.0\n",
      "k fold RSS :  3.13332957793e+14 k fold l2 :  1000.0\n",
      "2.66003922025e+14 1000.0\n",
      "k fold RSS :  2.48160069753e+14 k fold l2 :  3162.27766017\n",
      "k fold RSS :  2.54161168112e+14 k fold l2 :  3162.27766017\n",
      "k fold RSS :  2.14614603042e+14 k fold l2 :  3162.27766017\n",
      "k fold RSS :  2.58762098463e+14 k fold l2 :  3162.27766017\n",
      "k fold RSS :  2.45508756429e+14 k fold l2 :  3162.27766017\n",
      "k fold RSS :  2.92983544354e+14 k fold l2 :  3162.27766017\n",
      "k fold RSS :  3.17449696668e+14 k fold l2 :  3162.27766017\n",
      "k fold RSS :  2.87653591996e+14 k fold l2 :  3162.27766017\n",
      "k fold RSS :  2.27412733636e+14 k fold l2 :  3162.27766017\n",
      "k fold RSS :  3.13332957793e+14 k fold l2 :  3162.27766017\n",
      "2.66003922025e+14 3162.27766017\n",
      "k fold RSS :  2.48160069753e+14 k fold l2 :  10000.0\n",
      "k fold RSS :  2.54161168112e+14 k fold l2 :  10000.0\n",
      "k fold RSS :  2.14614603042e+14 k fold l2 :  10000.0\n",
      "k fold RSS :  2.58762098463e+14 k fold l2 :  10000.0\n",
      "k fold RSS :  2.45508756429e+14 k fold l2 :  10000.0\n",
      "k fold RSS :  2.92983544354e+14 k fold l2 :  10000.0\n",
      "k fold RSS :  3.17449696668e+14 k fold l2 :  10000.0\n",
      "k fold RSS :  2.87653591996e+14 k fold l2 :  10000.0\n",
      "k fold RSS :  2.27412733636e+14 k fold l2 :  10000.0\n",
      "k fold RSS :  3.13332957793e+14 k fold l2 :  10000.0\n",
      "2.66003922025e+14 10000.0\n",
      "k fold RSS :  2.48160069753e+14 k fold l2 :  31622.7766017\n",
      "k fold RSS :  2.54161168112e+14 k fold l2 :  31622.7766017\n",
      "k fold RSS :  2.14614603042e+14 k fold l2 :  31622.7766017\n",
      "k fold RSS :  2.58762098463e+14 k fold l2 :  31622.7766017\n",
      "k fold RSS :  2.45508756429e+14 k fold l2 :  31622.7766017\n",
      "k fold RSS :  2.92983544354e+14 k fold l2 :  31622.7766017\n",
      "k fold RSS :  3.17449696668e+14 k fold l2 :  31622.7766017\n",
      "k fold RSS :  2.87653591996e+14 k fold l2 :  31622.7766017\n",
      "k fold RSS :  2.27412733636e+14 k fold l2 :  31622.7766017\n",
      "k fold RSS :  3.13332957793e+14 k fold l2 :  31622.7766017\n",
      "2.66003922025e+14 31622.7766017\n",
      "k fold RSS :  2.48160069753e+14 k fold l2 :  100000.0\n",
      "k fold RSS :  2.54161168112e+14 k fold l2 :  100000.0\n",
      "k fold RSS :  2.14614603042e+14 k fold l2 :  100000.0\n",
      "k fold RSS :  2.58762098463e+14 k fold l2 :  100000.0\n",
      "k fold RSS :  2.45508756429e+14 k fold l2 :  100000.0\n",
      "k fold RSS :  2.92983544354e+14 k fold l2 :  100000.0\n",
      "k fold RSS :  3.17449696668e+14 k fold l2 :  100000.0\n",
      "k fold RSS :  2.87653591996e+14 k fold l2 :  100000.0\n",
      "k fold RSS :  2.27412733636e+14 k fold l2 :  100000.0\n",
      "k fold RSS :  3.13332957793e+14 k fold l2 :  100000.0\n",
      "2.66003922025e+14 100000.0\n",
      "k fold RSS :  2.48160069753e+14 k fold l2 :  316227.766017\n",
      "k fold RSS :  2.54161168112e+14 k fold l2 :  316227.766017\n",
      "k fold RSS :  2.14614603042e+14 k fold l2 :  316227.766017\n",
      "k fold RSS :  2.58762098463e+14 k fold l2 :  316227.766017\n",
      "k fold RSS :  2.45508756429e+14 k fold l2 :  316227.766017\n",
      "k fold RSS :  2.92983544354e+14 k fold l2 :  316227.766017\n",
      "k fold RSS :  3.17449696668e+14 k fold l2 :  316227.766017\n",
      "k fold RSS :  2.87653591996e+14 k fold l2 :  316227.766017\n",
      "k fold RSS :  2.27412733636e+14 k fold l2 :  316227.766017\n",
      "k fold RSS :  3.13332957793e+14 k fold l2 :  316227.766017\n",
      "2.66003922025e+14 316227.766017\n",
      "k fold RSS :  2.48160069753e+14 k fold l2 :  1000000.0\n",
      "k fold RSS :  2.54161168112e+14 k fold l2 :  1000000.0\n",
      "k fold RSS :  2.14614603042e+14 k fold l2 :  1000000.0\n",
      "k fold RSS :  2.58762098463e+14 k fold l2 :  1000000.0\n",
      "k fold RSS :  2.45508756429e+14 k fold l2 :  1000000.0\n",
      "k fold RSS :  2.92983544354e+14 k fold l2 :  1000000.0\n",
      "k fold RSS :  3.17449696668e+14 k fold l2 :  1000000.0\n",
      "k fold RSS :  2.87653591996e+14 k fold l2 :  1000000.0\n",
      "k fold RSS :  2.27412733636e+14 k fold l2 :  1000000.0\n",
      "k fold RSS :  3.13332957793e+14 k fold l2 :  1000000.0\n",
      "2.66003922025e+14 1000000.0\n",
      "k fold RSS :  2.48160069753e+14 k fold l2 :  3162277.66017\n",
      "k fold RSS :  2.54161168112e+14 k fold l2 :  3162277.66017\n",
      "k fold RSS :  2.14614603042e+14 k fold l2 :  3162277.66017\n",
      "k fold RSS :  2.58762098463e+14 k fold l2 :  3162277.66017\n",
      "k fold RSS :  2.45508756429e+14 k fold l2 :  3162277.66017\n",
      "k fold RSS :  2.92983544354e+14 k fold l2 :  3162277.66017\n",
      "k fold RSS :  3.17449696668e+14 k fold l2 :  3162277.66017\n",
      "k fold RSS :  2.87653591996e+14 k fold l2 :  3162277.66017\n",
      "k fold RSS :  2.27412733636e+14 k fold l2 :  3162277.66017\n",
      "k fold RSS :  3.13332957793e+14 k fold l2 :  3162277.66017\n",
      "2.66003922025e+14 3162277.66017\n",
      "k fold RSS :  2.48160069753e+14 k fold l2 :  10000000.0\n",
      "k fold RSS :  2.54161168112e+14 k fold l2 :  10000000.0\n",
      "k fold RSS :  2.14614603042e+14 k fold l2 :  10000000.0\n",
      "k fold RSS :  2.58762098463e+14 k fold l2 :  10000000.0\n",
      "k fold RSS :  2.45508756429e+14 k fold l2 :  10000000.0\n",
      "k fold RSS :  2.92983544354e+14 k fold l2 :  10000000.0\n",
      "k fold RSS :  3.17449696668e+14 k fold l2 :  10000000.0\n",
      "k fold RSS :  2.87653591996e+14 k fold l2 :  10000000.0\n",
      "k fold RSS :  2.27412733636e+14 k fold l2 :  10000000.0\n",
      "k fold RSS :  3.13332957793e+14 k fold l2 :  10000000.0\n",
      "2.66003922025e+14 10000000.0\n",
      "best l2 value:  31622.7766017\n"
     ]
    }
   ],
   "source": [
    "import numpy\n",
    "degree = 15\n",
    "data = polynomial_sframe(train_valid_shuffled['sqft_living'], degree)\n",
    "features_list = data.column_names()\n",
    "data['price'] = train_valid_shuffled['price']\n",
    "#print data\n",
    "l2_space = numpy.logspace(1, 7, num=13)\n",
    "rss_smallest = None\n",
    "for l2 in l2_space:\n",
    "    rss_kcv = k_fold_cross_validation(10, l2, data, 'price', features_list)\n",
    "    print rss_kcv, l2\n",
    "    # choose smallest error\n",
    "    if rss_smallest is None:\n",
    "        rss_smallest = rss_kcv\n",
    "        best_l2 = l2\n",
    "    elif rss_kcv < rss_smallest:\n",
    "        rss_smallest = rss_kcv\n",
    "        best_l2 = l2\n",
    "print 'best l2 value: ', best_l2"
   ]
  },
  {
   "cell_type": "markdown",
   "metadata": {},
   "source": [
    "***QUIZ QUESTIONS:  What is the best value for the L2 penalty according to 10-fold validation?***"
   ]
  },
  {
   "cell_type": "markdown",
   "metadata": {},
   "source": [
    "You may find it useful to plot the k-fold cross-validation errors you have obtained to better understand the behavior of the method.  "
   ]
  },
  {
   "cell_type": "code",
   "execution_count": null,
   "metadata": {
    "collapsed": true
   },
   "outputs": [],
   "source": [
    "# Plot the l2_penalty values in the x axis and the cross-validation error in the y axis.\n",
    "# Using plt.xscale('log') will make your plot more intuitive.\n",
    "\n"
   ]
  },
  {
   "cell_type": "markdown",
   "metadata": {},
   "source": [
    "Once you found the best value for the L2 penalty using cross-validation, it is important to retrain a final model on all of the training data using this value of `l2_penalty`.  This way, your final model will be trained on the entire dataset."
   ]
  },
  {
   "cell_type": "code",
   "execution_count": 25,
   "metadata": {
    "collapsed": false
   },
   "outputs": [],
   "source": [
    "degree = 15\n",
    "data = polynomial_sframe(train_valid_shuffled['sqft_living'], degree)\n",
    "data['price'] = train_valid_shuffled['price']\n",
    "model = graphlab.linear_regression.create(data, target='price', \n",
    "                                                  l2_penalty=best_l2,\n",
    "                                                  validation_set=None,verbose=False)"
   ]
  },
  {
   "cell_type": "markdown",
   "metadata": {},
   "source": [
    "***QUIZ QUESTION: Using the best L2 penalty found above, train a model using all training data. What is the RSS on the TEST data of the model you learn with this L2 penalty? ***"
   ]
  },
  {
   "cell_type": "code",
   "execution_count": 26,
   "metadata": {
    "collapsed": false
   },
   "outputs": [
    {
     "name": "stdout",
     "output_type": "stream",
     "text": [
      "2.52897427447e+14\n"
     ]
    }
   ],
   "source": [
    "predictions = model.predict(test_data)\n",
    "RSS = ((test_data['price'] - predictions)**2).sum()\n",
    "print RSS"
   ]
  },
  {
   "cell_type": "code",
   "execution_count": null,
   "metadata": {
    "collapsed": true
   },
   "outputs": [],
   "source": []
  }
 ],
 "metadata": {
  "kernelspec": {
   "display_name": "Python 2",
   "language": "python",
   "name": "python2"
  },
  "language_info": {
   "codemirror_mode": {
    "name": "ipython",
    "version": 2
   },
   "file_extension": ".py",
   "mimetype": "text/x-python",
   "name": "python",
   "nbconvert_exporter": "python",
   "pygments_lexer": "ipython2",
   "version": "2.7.6"
  }
 },
 "nbformat": 4,
 "nbformat_minor": 0
}
